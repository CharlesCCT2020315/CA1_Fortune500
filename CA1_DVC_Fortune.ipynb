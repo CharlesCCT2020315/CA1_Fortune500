{
 "cells": [
  {
   "cell_type": "markdown",
   "id": "846d2635",
   "metadata": {},
   "source": [
    "## Data Visualization & Communication\n",
    "\n",
    "Student: Charles Franklin Jahn 2020315\n",
    "\n",
    "Lecturer: Sam Weiss\n",
    "\n",
    "CCT College Dublin\n",
    "\n",
    "BSc (Hons) in Computing in IT - 4nd Year\n",
    "\n",
    "05.11.2023"
   ]
  },
  {
   "cell_type": "code",
   "execution_count": 2,
   "id": "c19b70c9",
   "metadata": {},
   "outputs": [],
   "source": [
    "import numpy as np\n",
    "import seaborn as sns\n",
    "import pandas as pd\n",
    "from scipy import stats\n",
    "sns.set()\n",
    "\n",
    "import matplotlib.pyplot as plt"
   ]
  },
  {
   "cell_type": "code",
   "execution_count": 4,
   "id": "50826aa0",
   "metadata": {},
   "outputs": [],
   "source": [
    "df= pd.read_csv(\"Fortune500.csv\")"
   ]
  },
  {
   "cell_type": "code",
   "execution_count": null,
   "id": "34842059",
   "metadata": {},
   "outputs": [],
   "source": []
  }
 ],
 "metadata": {
  "kernelspec": {
   "display_name": "Python 3 (ipykernel)",
   "language": "python",
   "name": "python3"
  },
  "language_info": {
   "codemirror_mode": {
    "name": "ipython",
    "version": 3
   },
   "file_extension": ".py",
   "mimetype": "text/x-python",
   "name": "python",
   "nbconvert_exporter": "python",
   "pygments_lexer": "ipython3",
   "version": "3.9.7"
  }
 },
 "nbformat": 4,
 "nbformat_minor": 5
}
